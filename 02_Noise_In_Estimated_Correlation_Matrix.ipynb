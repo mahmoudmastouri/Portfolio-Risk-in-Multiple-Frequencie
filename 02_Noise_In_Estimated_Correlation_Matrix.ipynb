{
  "nbformat": 4,
  "nbformat_minor": 0,
  "metadata": {
    "colab": {
      "name": "02_Noise_In_Estimated_Correlation_Matrix.ipynb",
      "provenance": [],
      "authorship_tag": "ABX9TyO3Kksoc48kzh5tLZis3TM/",
      "include_colab_link": true
    },
    "kernelspec": {
      "name": "python3",
      "display_name": "Python 3"
    },
    "language_info": {
      "name": "python"
    }
  },
  "cells": [
    {
      "cell_type": "markdown",
      "metadata": {
        "id": "view-in-github",
        "colab_type": "text"
      },
      "source": [
        "<a href=\"https://colab.research.google.com/github/mahmoudmastouri/Portfolio-Risk-in-Multiple-Frequencie/blob/master/02_Noise_In_Estimated_Correlation_Matrix.ipynb\" target=\"_parent\"><img src=\"https://colab.research.google.com/assets/colab-badge.svg\" alt=\"Open In Colab\"/></a>"
      ]
    },
    {
      "cell_type": "code",
      "execution_count": null,
      "metadata": {
        "id": "hsxPGsVe9jzQ"
      },
      "outputs": [],
      "source": [
        ""
      ]
    }
  ]
}